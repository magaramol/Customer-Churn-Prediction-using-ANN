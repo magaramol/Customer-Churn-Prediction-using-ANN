{
  "nbformat": 4,
  "nbformat_minor": 0,
  "metadata": {
    "colab": {
      "provenance": [],
      "gpuType": "T4",
      "authorship_tag": "ABX9TyN1uI8qb7YdMlIMbob3Fb6M",
      "include_colab_link": true
    },
    "kernelspec": {
      "name": "python3",
      "display_name": "Python 3"
    },
    "language_info": {
      "name": "python"
    },
    "accelerator": "GPU"
  },
  "cells": [
    {
      "cell_type": "markdown",
      "metadata": {
        "id": "view-in-github",
        "colab_type": "text"
      },
      "source": [
        "<a href=\"https://colab.research.google.com/github/magaramol/Customer-Churn-Prediction-using-ANN/blob/main/ANN_implemetation.ipynb\" target=\"_parent\"><img src=\"https://colab.research.google.com/assets/colab-badge.svg\" alt=\"Open In Colab\"/></a>"
      ]
    },
    {
      "cell_type": "code",
      "execution_count": 27,
      "metadata": {
        "id": "Dv7kvTx6I-xP"
      },
      "outputs": [],
      "source": [
        "# !pip install tensorflow"
      ]
    },
    {
      "cell_type": "code",
      "source": [
        "import tensorflow as tf"
      ],
      "metadata": {
        "id": "KmRBCsSxKdBB"
      },
      "execution_count": 1,
      "outputs": []
    },
    {
      "cell_type": "code",
      "source": [
        "print(tf.__version__)"
      ],
      "metadata": {
        "colab": {
          "base_uri": "https://localhost:8080/"
        },
        "id": "4Z12yfDBK3pV",
        "outputId": "1a3e8bc6-5f10-414a-d463-21edb094c5af"
      },
      "execution_count": 2,
      "outputs": [
        {
          "output_type": "stream",
          "name": "stdout",
          "text": [
            "2.18.0\n"
          ]
        }
      ]
    },
    {
      "cell_type": "code",
      "source": [
        "# Importing the libraries\n",
        "import numpy as np\n",
        "import matplotlib.pyplot as plt\n",
        "import pandas as pd"
      ],
      "metadata": {
        "id": "GuYfQyC8LHUK"
      },
      "execution_count": 3,
      "outputs": []
    },
    {
      "cell_type": "code",
      "source": [
        "# Importing the dataset\n",
        "dataset = pd.read_csv('Churn_Modelling.csv')\n",
        "X = dataset.iloc[:, 3:13]\n",
        "y = dataset.iloc[:, 13]"
      ],
      "metadata": {
        "id": "KJjZYgrILKLD"
      },
      "execution_count": 4,
      "outputs": []
    },
    {
      "cell_type": "code",
      "source": [
        "#Create dummy variables\n",
        "geography=pd.get_dummies(X[\"Geography\"],drop_first=True)\n",
        "gender=pd.get_dummies(X['Gender'],drop_first=True)"
      ],
      "metadata": {
        "id": "KvUcXTUlNcu4"
      },
      "execution_count": 5,
      "outputs": []
    },
    {
      "cell_type": "code",
      "source": [
        "## Concatenate the Data Frames\n",
        "\n",
        "X=pd.concat([X,geography,gender],axis=1)\n",
        "\n",
        "## Drop Unnecessary columns\n",
        "X=X.drop(['Geography','Gender'],axis=1)\n",
        "\n",
        "# Splitting the dataset into the Training set and Test set\n",
        "from sklearn.model_selection import train_test_split\n",
        "X_train, X_test, y_train, y_test = train_test_split(X, y, test_size = 0.2, random_state = 0)\n"
      ],
      "metadata": {
        "id": "ovqdwtS6NeyW"
      },
      "execution_count": 6,
      "outputs": []
    },
    {
      "cell_type": "code",
      "source": [
        "# Feature Scaling\n",
        "from sklearn.preprocessing import StandardScaler\n",
        "sc = StandardScaler()\n",
        "X_train = sc.fit_transform(X_train)\n",
        "X_test = sc.transform(X_test)\n"
      ],
      "metadata": {
        "id": "IZ4w2j5-NgVk"
      },
      "execution_count": 9,
      "outputs": []
    },
    {
      "cell_type": "code",
      "source": [
        "from tensorflow.keras.models import Sequential\n",
        "from tensorflow.keras.layers import Dense\n",
        "from tensorflow.keras.layers import LeakyReLU,PReLU,ELU\n",
        "from tensorflow.keras.layers import Dropout\n"
      ],
      "metadata": {
        "id": "Z_UYx9TRO3Rr"
      },
      "execution_count": 10,
      "outputs": []
    },
    {
      "cell_type": "code",
      "source": [
        "# df"
      ],
      "metadata": {
        "id": "jlD6yUyiSGqk"
      },
      "execution_count": 11,
      "outputs": []
    },
    {
      "cell_type": "code",
      "source": [
        "# Initialising the ANN\n",
        "classifier = Sequential()"
      ],
      "metadata": {
        "id": "RC9G5zfsKl76"
      },
      "execution_count": 12,
      "outputs": []
    },
    {
      "cell_type": "code",
      "source": [
        "# Adding the input layer and the first hidden layer\n",
        "classifier.add(Dense(units=11,activation='relu'))"
      ],
      "metadata": {
        "id": "_ODEsru_Lb1Y"
      },
      "execution_count": 13,
      "outputs": []
    },
    {
      "cell_type": "code",
      "source": [
        "# Adding the input layer and the first hidden layer\n",
        "classifier.add(Dense(units=6,activation='relu'))"
      ],
      "metadata": {
        "id": "UwlOL3uwLdQl"
      },
      "execution_count": 14,
      "outputs": []
    },
    {
      "cell_type": "code",
      "source": [
        "# Adding the input layer and the first hidden layer\n",
        "classifier.add(Dense(units=1,activation='relu'))"
      ],
      "metadata": {
        "id": "ldHq-MTpLe4V"
      },
      "execution_count": 15,
      "outputs": []
    },
    {
      "cell_type": "code",
      "source": [
        "classifier.compile(optimizer='adam',loss='binary_crossentropy',metrics=['accuracy'])"
      ],
      "metadata": {
        "id": "mZsnqRplLgD8"
      },
      "execution_count": 16,
      "outputs": []
    },
    {
      "cell_type": "code",
      "source": [
        "model_history=classifier.fit(X_train,y_train,validation_split=0.33,batch_size=10,epochs=50)"
      ],
      "metadata": {
        "colab": {
          "base_uri": "https://localhost:8080/"
        },
        "id": "tlXMHtfGLiVF",
        "outputId": "92a26904-f5b0-4619-fd24-0a20bd0d3218"
      },
      "execution_count": 17,
      "outputs": [
        {
          "output_type": "stream",
          "name": "stdout",
          "text": [
            "Epoch 1/50\n",
            "\u001b[1m536/536\u001b[0m \u001b[32m━━━━━━━━━━━━━━━━━━━━\u001b[0m\u001b[37m\u001b[0m \u001b[1m6s\u001b[0m 6ms/step - accuracy: 0.7666 - loss: 1.2185 - val_accuracy: 0.7819 - val_loss: 0.5707\n",
            "Epoch 2/50\n",
            "\u001b[1m536/536\u001b[0m \u001b[32m━━━━━━━━━━━━━━━━━━━━\u001b[0m\u001b[37m\u001b[0m \u001b[1m3s\u001b[0m 6ms/step - accuracy: 0.7889 - loss: 0.5231 - val_accuracy: 0.8054 - val_loss: 0.5198\n",
            "Epoch 3/50\n",
            "\u001b[1m536/536\u001b[0m \u001b[32m━━━━━━━━━━━━━━━━━━━━\u001b[0m\u001b[37m\u001b[0m \u001b[1m4s\u001b[0m 3ms/step - accuracy: 0.8090 - loss: 0.5073 - val_accuracy: 0.8080 - val_loss: 0.5066\n",
            "Epoch 4/50\n",
            "\u001b[1m536/536\u001b[0m \u001b[32m━━━━━━━━━━━━━━━━━━━━\u001b[0m\u001b[37m\u001b[0m \u001b[1m2s\u001b[0m 3ms/step - accuracy: 0.8073 - loss: 0.4865 - val_accuracy: 0.8095 - val_loss: 0.4887\n",
            "Epoch 5/50\n",
            "\u001b[1m536/536\u001b[0m \u001b[32m━━━━━━━━━━━━━━━━━━━━\u001b[0m\u001b[37m\u001b[0m \u001b[1m2s\u001b[0m 3ms/step - accuracy: 0.8218 - loss: 0.4610 - val_accuracy: 0.8118 - val_loss: 0.4871\n",
            "Epoch 6/50\n",
            "\u001b[1m536/536\u001b[0m \u001b[32m━━━━━━━━━━━━━━━━━━━━\u001b[0m\u001b[37m\u001b[0m \u001b[1m3s\u001b[0m 5ms/step - accuracy: 0.8145 - loss: 0.4452 - val_accuracy: 0.8156 - val_loss: 0.4870\n",
            "Epoch 7/50\n",
            "\u001b[1m536/536\u001b[0m \u001b[32m━━━━━━━━━━━━━━━━━━━━\u001b[0m\u001b[37m\u001b[0m \u001b[1m4s\u001b[0m 3ms/step - accuracy: 0.8176 - loss: 0.4614 - val_accuracy: 0.8073 - val_loss: 0.4685\n",
            "Epoch 8/50\n",
            "\u001b[1m536/536\u001b[0m \u001b[32m━━━━━━━━━━━━━━━━━━━━\u001b[0m\u001b[37m\u001b[0m \u001b[1m2s\u001b[0m 3ms/step - accuracy: 0.8143 - loss: 0.4488 - val_accuracy: 0.8148 - val_loss: 0.4779\n",
            "Epoch 9/50\n",
            "\u001b[1m536/536\u001b[0m \u001b[32m━━━━━━━━━━━━━━━━━━━━\u001b[0m\u001b[37m\u001b[0m \u001b[1m2s\u001b[0m 3ms/step - accuracy: 0.8276 - loss: 0.4359 - val_accuracy: 0.8179 - val_loss: 0.4787\n",
            "Epoch 10/50\n",
            "\u001b[1m536/536\u001b[0m \u001b[32m━━━━━━━━━━━━━━━━━━━━\u001b[0m\u001b[37m\u001b[0m \u001b[1m2s\u001b[0m 3ms/step - accuracy: 0.8014 - loss: 0.4647 - val_accuracy: 0.8186 - val_loss: 0.4865\n",
            "Epoch 11/50\n",
            "\u001b[1m536/536\u001b[0m \u001b[32m━━━━━━━━━━━━━━━━━━━━\u001b[0m\u001b[37m\u001b[0m \u001b[1m4s\u001b[0m 6ms/step - accuracy: 0.8213 - loss: 0.4503 - val_accuracy: 0.8167 - val_loss: 0.4823\n",
            "Epoch 12/50\n",
            "\u001b[1m536/536\u001b[0m \u001b[32m━━━━━━━━━━━━━━━━━━━━\u001b[0m\u001b[37m\u001b[0m \u001b[1m2s\u001b[0m 3ms/step - accuracy: 0.8244 - loss: 0.4413 - val_accuracy: 0.8145 - val_loss: 0.4672\n",
            "Epoch 13/50\n",
            "\u001b[1m536/536\u001b[0m \u001b[32m━━━━━━━━━━━━━━━━━━━━\u001b[0m\u001b[37m\u001b[0m \u001b[1m2s\u001b[0m 3ms/step - accuracy: 0.8274 - loss: 0.4278 - val_accuracy: 0.8107 - val_loss: 0.4583\n",
            "Epoch 14/50\n",
            "\u001b[1m536/536\u001b[0m \u001b[32m━━━━━━━━━━━━━━━━━━━━\u001b[0m\u001b[37m\u001b[0m \u001b[1m3s\u001b[0m 3ms/step - accuracy: 0.8212 - loss: 0.4194 - val_accuracy: 0.8156 - val_loss: 0.4589\n",
            "Epoch 15/50\n",
            "\u001b[1m536/536\u001b[0m \u001b[32m━━━━━━━━━━━━━━━━━━━━\u001b[0m\u001b[37m\u001b[0m \u001b[1m3s\u001b[0m 3ms/step - accuracy: 0.8192 - loss: 0.4179 - val_accuracy: 0.8160 - val_loss: 0.4532\n",
            "Epoch 16/50\n",
            "\u001b[1m536/536\u001b[0m \u001b[32m━━━━━━━━━━━━━━━━━━━━\u001b[0m\u001b[37m\u001b[0m \u001b[1m2s\u001b[0m 4ms/step - accuracy: 0.8277 - loss: 0.3966 - val_accuracy: 0.8164 - val_loss: 0.4433\n",
            "Epoch 17/50\n",
            "\u001b[1m536/536\u001b[0m \u001b[32m━━━━━━━━━━━━━━━━━━━━\u001b[0m\u001b[37m\u001b[0m \u001b[1m2s\u001b[0m 5ms/step - accuracy: 0.8217 - loss: 0.4157 - val_accuracy: 0.8171 - val_loss: 0.4542\n",
            "Epoch 18/50\n",
            "\u001b[1m536/536\u001b[0m \u001b[32m━━━━━━━━━━━━━━━━━━━━\u001b[0m\u001b[37m\u001b[0m \u001b[1m2s\u001b[0m 3ms/step - accuracy: 0.8296 - loss: 0.4205 - val_accuracy: 0.8201 - val_loss: 0.5002\n",
            "Epoch 19/50\n",
            "\u001b[1m536/536\u001b[0m \u001b[32m━━━━━━━━━━━━━━━━━━━━\u001b[0m\u001b[37m\u001b[0m \u001b[1m2s\u001b[0m 3ms/step - accuracy: 0.8302 - loss: 0.4000 - val_accuracy: 0.8160 - val_loss: 0.4477\n",
            "Epoch 20/50\n",
            "\u001b[1m536/536\u001b[0m \u001b[32m━━━━━━━━━━━━━━━━━━━━\u001b[0m\u001b[37m\u001b[0m \u001b[1m2s\u001b[0m 3ms/step - accuracy: 0.8259 - loss: 0.4072 - val_accuracy: 0.8175 - val_loss: 0.4759\n",
            "Epoch 21/50\n",
            "\u001b[1m536/536\u001b[0m \u001b[32m━━━━━━━━━━━━━━━━━━━━\u001b[0m\u001b[37m\u001b[0m \u001b[1m2s\u001b[0m 3ms/step - accuracy: 0.8310 - loss: 0.3892 - val_accuracy: 0.8190 - val_loss: 0.4377\n",
            "Epoch 22/50\n",
            "\u001b[1m536/536\u001b[0m \u001b[32m━━━━━━━━━━━━━━━━━━━━\u001b[0m\u001b[37m\u001b[0m \u001b[1m3s\u001b[0m 4ms/step - accuracy: 0.8244 - loss: 0.4004 - val_accuracy: 0.8137 - val_loss: 0.4454\n",
            "Epoch 23/50\n",
            "\u001b[1m536/536\u001b[0m \u001b[32m━━━━━━━━━━━━━━━━━━━━\u001b[0m\u001b[37m\u001b[0m \u001b[1m3s\u001b[0m 4ms/step - accuracy: 0.8270 - loss: 0.4047 - val_accuracy: 0.8186 - val_loss: 0.4503\n",
            "Epoch 24/50\n",
            "\u001b[1m536/536\u001b[0m \u001b[32m━━━━━━━━━━━━━━━━━━━━\u001b[0m\u001b[37m\u001b[0m \u001b[1m2s\u001b[0m 3ms/step - accuracy: 0.8250 - loss: 0.4013 - val_accuracy: 0.8213 - val_loss: 0.4717\n",
            "Epoch 25/50\n",
            "\u001b[1m536/536\u001b[0m \u001b[32m━━━━━━━━━━━━━━━━━━━━\u001b[0m\u001b[37m\u001b[0m \u001b[1m2s\u001b[0m 3ms/step - accuracy: 0.8275 - loss: 0.3894 - val_accuracy: 0.8198 - val_loss: 0.4477\n",
            "Epoch 26/50\n",
            "\u001b[1m536/536\u001b[0m \u001b[32m━━━━━━━━━━━━━━━━━━━━\u001b[0m\u001b[37m\u001b[0m \u001b[1m2s\u001b[0m 3ms/step - accuracy: 0.8160 - loss: 0.4004 - val_accuracy: 0.8247 - val_loss: 0.4378\n",
            "Epoch 27/50\n",
            "\u001b[1m536/536\u001b[0m \u001b[32m━━━━━━━━━━━━━━━━━━━━\u001b[0m\u001b[37m\u001b[0m \u001b[1m2s\u001b[0m 3ms/step - accuracy: 0.8300 - loss: 0.3946 - val_accuracy: 0.8239 - val_loss: 0.4474\n",
            "Epoch 28/50\n",
            "\u001b[1m536/536\u001b[0m \u001b[32m━━━━━━━━━━━━━━━━━━━━\u001b[0m\u001b[37m\u001b[0m \u001b[1m4s\u001b[0m 6ms/step - accuracy: 0.8308 - loss: 0.3760 - val_accuracy: 0.8217 - val_loss: 0.4391\n",
            "Epoch 29/50\n",
            "\u001b[1m536/536\u001b[0m \u001b[32m━━━━━━━━━━━━━━━━━━━━\u001b[0m\u001b[37m\u001b[0m \u001b[1m4s\u001b[0m 3ms/step - accuracy: 0.8347 - loss: 0.3768 - val_accuracy: 0.8251 - val_loss: 0.4533\n",
            "Epoch 30/50\n",
            "\u001b[1m536/536\u001b[0m \u001b[32m━━━━━━━━━━━━━━━━━━━━\u001b[0m\u001b[37m\u001b[0m \u001b[1m2s\u001b[0m 3ms/step - accuracy: 0.8304 - loss: 0.3882 - val_accuracy: 0.8281 - val_loss: 0.4284\n",
            "Epoch 31/50\n",
            "\u001b[1m536/536\u001b[0m \u001b[32m━━━━━━━━━━━━━━━━━━━━\u001b[0m\u001b[37m\u001b[0m \u001b[1m3s\u001b[0m 3ms/step - accuracy: 0.8337 - loss: 0.3832 - val_accuracy: 0.8254 - val_loss: 0.4584\n",
            "Epoch 32/50\n",
            "\u001b[1m536/536\u001b[0m \u001b[32m━━━━━━━━━━━━━━━━━━━━\u001b[0m\u001b[37m\u001b[0m \u001b[1m2s\u001b[0m 4ms/step - accuracy: 0.8279 - loss: 0.3894 - val_accuracy: 0.8296 - val_loss: 0.4302\n",
            "Epoch 33/50\n",
            "\u001b[1m536/536\u001b[0m \u001b[32m━━━━━━━━━━━━━━━━━━━━\u001b[0m\u001b[37m\u001b[0m \u001b[1m3s\u001b[0m 4ms/step - accuracy: 0.8274 - loss: 0.3814 - val_accuracy: 0.8254 - val_loss: 0.4404\n",
            "Epoch 34/50\n",
            "\u001b[1m536/536\u001b[0m \u001b[32m━━━━━━━━━━━━━━━━━━━━\u001b[0m\u001b[37m\u001b[0m \u001b[1m2s\u001b[0m 3ms/step - accuracy: 0.8441 - loss: 0.3722 - val_accuracy: 0.8266 - val_loss: 0.4622\n",
            "Epoch 35/50\n",
            "\u001b[1m536/536\u001b[0m \u001b[32m━━━━━━━━━━━━━━━━━━━━\u001b[0m\u001b[37m\u001b[0m \u001b[1m3s\u001b[0m 3ms/step - accuracy: 0.8408 - loss: 0.3691 - val_accuracy: 0.8270 - val_loss: 0.4621\n",
            "Epoch 36/50\n",
            "\u001b[1m536/536\u001b[0m \u001b[32m━━━━━━━━━━━━━━━━━━━━\u001b[0m\u001b[37m\u001b[0m \u001b[1m2s\u001b[0m 3ms/step - accuracy: 0.8305 - loss: 0.3764 - val_accuracy: 0.8285 - val_loss: 0.4920\n",
            "Epoch 37/50\n",
            "\u001b[1m536/536\u001b[0m \u001b[32m━━━━━━━━━━━━━━━━━━━━\u001b[0m\u001b[37m\u001b[0m \u001b[1m2s\u001b[0m 3ms/step - accuracy: 0.8250 - loss: 0.3849 - val_accuracy: 0.8300 - val_loss: 0.4568\n",
            "Epoch 38/50\n",
            "\u001b[1m536/536\u001b[0m \u001b[32m━━━━━━━━━━━━━━━━━━━━\u001b[0m\u001b[37m\u001b[0m \u001b[1m4s\u001b[0m 5ms/step - accuracy: 0.8302 - loss: 0.3810 - val_accuracy: 0.8326 - val_loss: 0.4308\n",
            "Epoch 39/50\n",
            "\u001b[1m536/536\u001b[0m \u001b[32m━━━━━━━━━━━━━━━━━━━━\u001b[0m\u001b[37m\u001b[0m \u001b[1m4s\u001b[0m 3ms/step - accuracy: 0.8420 - loss: 0.3682 - val_accuracy: 0.8330 - val_loss: 0.4276\n",
            "Epoch 40/50\n",
            "\u001b[1m536/536\u001b[0m \u001b[32m━━━━━━━━━━━━━━━━━━━━\u001b[0m\u001b[37m\u001b[0m \u001b[1m3s\u001b[0m 3ms/step - accuracy: 0.8334 - loss: 0.3678 - val_accuracy: 0.8345 - val_loss: 0.4489\n",
            "Epoch 41/50\n",
            "\u001b[1m536/536\u001b[0m \u001b[32m━━━━━━━━━━━━━━━━━━━━\u001b[0m\u001b[37m\u001b[0m \u001b[1m3s\u001b[0m 3ms/step - accuracy: 0.8362 - loss: 0.3726 - val_accuracy: 0.8323 - val_loss: 0.4523\n",
            "Epoch 42/50\n",
            "\u001b[1m536/536\u001b[0m \u001b[32m━━━━━━━━━━━━━━━━━━━━\u001b[0m\u001b[37m\u001b[0m \u001b[1m4s\u001b[0m 5ms/step - accuracy: 0.8447 - loss: 0.3462 - val_accuracy: 0.8349 - val_loss: 0.4556\n",
            "Epoch 43/50\n",
            "\u001b[1m536/536\u001b[0m \u001b[32m━━━━━━━━━━━━━━━━━━━━\u001b[0m\u001b[37m\u001b[0m \u001b[1m4s\u001b[0m 3ms/step - accuracy: 0.8404 - loss: 0.3588 - val_accuracy: 0.8334 - val_loss: 0.4536\n",
            "Epoch 44/50\n",
            "\u001b[1m536/536\u001b[0m \u001b[32m━━━━━━━━━━━━━━━━━━━━\u001b[0m\u001b[37m\u001b[0m \u001b[1m3s\u001b[0m 3ms/step - accuracy: 0.8346 - loss: 0.3685 - val_accuracy: 0.8342 - val_loss: 0.4682\n",
            "Epoch 45/50\n",
            "\u001b[1m536/536\u001b[0m \u001b[32m━━━━━━━━━━━━━━━━━━━━\u001b[0m\u001b[37m\u001b[0m \u001b[1m3s\u001b[0m 3ms/step - accuracy: 0.8375 - loss: 0.3649 - val_accuracy: 0.8357 - val_loss: 0.4245\n",
            "Epoch 46/50\n",
            "\u001b[1m536/536\u001b[0m \u001b[32m━━━━━━━━━━━━━━━━━━━━\u001b[0m\u001b[37m\u001b[0m \u001b[1m2s\u001b[0m 4ms/step - accuracy: 0.8292 - loss: 0.3844 - val_accuracy: 0.8349 - val_loss: 0.4761\n",
            "Epoch 47/50\n",
            "\u001b[1m536/536\u001b[0m \u001b[32m━━━━━━━━━━━━━━━━━━━━\u001b[0m\u001b[37m\u001b[0m \u001b[1m2s\u001b[0m 4ms/step - accuracy: 0.8336 - loss: 0.3854 - val_accuracy: 0.8300 - val_loss: 0.4546\n",
            "Epoch 48/50\n",
            "\u001b[1m536/536\u001b[0m \u001b[32m━━━━━━━━━━━━━━━━━━━━\u001b[0m\u001b[37m\u001b[0m \u001b[1m2s\u001b[0m 3ms/step - accuracy: 0.8300 - loss: 0.3707 - val_accuracy: 0.8360 - val_loss: 0.4266\n",
            "Epoch 49/50\n",
            "\u001b[1m536/536\u001b[0m \u001b[32m━━━━━━━━━━━━━━━━━━━━\u001b[0m\u001b[37m\u001b[0m \u001b[1m2s\u001b[0m 3ms/step - accuracy: 0.8357 - loss: 0.3698 - val_accuracy: 0.8376 - val_loss: 0.4627\n",
            "Epoch 50/50\n",
            "\u001b[1m536/536\u001b[0m \u001b[32m━━━━━━━━━━━━━━━━━━━━\u001b[0m\u001b[37m\u001b[0m \u001b[1m2s\u001b[0m 3ms/step - accuracy: 0.8375 - loss: 0.3582 - val_accuracy: 0.8360 - val_loss: 0.4454\n"
          ]
        }
      ]
    },
    {
      "cell_type": "code",
      "source": [
        "# list all data in history\n",
        "\n",
        "print(model_history.history.keys())"
      ],
      "metadata": {
        "colab": {
          "base_uri": "https://localhost:8080/"
        },
        "id": "dCQkf7tlLjzV",
        "outputId": "9beabaf4-7c53-4198-f82a-643d9510c22c"
      },
      "execution_count": 18,
      "outputs": [
        {
          "output_type": "stream",
          "name": "stdout",
          "text": [
            "dict_keys(['accuracy', 'loss', 'val_accuracy', 'val_loss'])\n"
          ]
        }
      ]
    },
    {
      "cell_type": "code",
      "source": [
        "\n",
        "# summarize history for accuracy\n",
        "plt.plot(model_history.history['accuracy'])\n",
        "plt.plot(model_history.history['val_accuracy'])\n",
        "plt.title('model accuracy')\n",
        "plt.ylabel('accuracy')\n",
        "plt.xlabel('epoch')\n",
        "plt.legend(['train', 'test'], loc='upper left')\n",
        "plt.show()"
      ],
      "metadata": {
        "colab": {
          "base_uri": "https://localhost:8080/",
          "height": 472
        },
        "id": "HUKYE95PTzJ_",
        "outputId": "0fdc114c-338b-45d1-cdcf-67dd0f6482a6"
      },
      "execution_count": 19,
      "outputs": [
        {
          "output_type": "display_data",
          "data": {
            "text/plain": [
              "<Figure size 640x480 with 1 Axes>"
            ],
            "image/png": "[encoded data removed]"
          },
          "metadata": {}
        }
      ]
    },
    {
      "cell_type": "code",
      "source": [
        "# summarize history for loss\n",
        "plt.plot(model_history.history['loss'])\n",
        "plt.plot(model_history.history['val_loss'])\n",
        "plt.title('model loss')\n",
        "plt.ylabel('loss')\n",
        "plt.xlabel('epoch')\n",
        "plt.legend(['train', 'test'], loc='upper left')\n",
        "plt.show()"
      ],
      "metadata": {
        "colab": {
          "base_uri": "https://localhost:8080/",
          "height": 472
        },
        "id": "rvLpHA_bT1hY",
        "outputId": "62bbf5e6-9214-4839-b703-69df94c6d70e"
      },
      "execution_count": 20,
      "outputs": [
        {
          "output_type": "display_data",
          "data": {
            "text/plain": [
              "<Figure size 640x480 with 1 Axes>"
            ],
            "image/png": "[encoded data removed]"
          },
          "metadata": {}
        }
      ]
    },
    {
      "cell_type": "code",
      "source": [
        "# Part 3 - Making the predictions and evaluating the model\n",
        "\n",
        "# Predicting the Test set results\n",
        "y_pred = classifier.predict(X_test)\n",
        "y_pred = (y_pred > 0.5)"
      ],
      "metadata": {
        "colab": {
          "base_uri": "https://localhost:8080/"
        },
        "id": "y6kJXCk-T3K9",
        "outputId": "a34d3176-ad8b-4d53-c4e1-e0cd8536bf32"
      },
      "execution_count": 21,
      "outputs": [
        {
          "output_type": "stream",
          "name": "stdout",
          "text": [
            "\u001b[1m63/63\u001b[0m \u001b[32m━━━━━━━━━━━━━━━━━━━━\u001b[0m\u001b[37m\u001b[0m \u001b[1m1s\u001b[0m 7ms/step\n"
          ]
        }
      ]
    },
    {
      "cell_type": "code",
      "source": [
        "# Making the Confusion Matrix\n",
        "from sklearn.metrics import confusion_matrix\n",
        "cm = confusion_matrix(y_test, y_pred)\n",
        "cm"
      ],
      "metadata": {
        "colab": {
          "base_uri": "https://localhost:8080/"
        },
        "id": "BIa6PUbQT44Z",
        "outputId": "e08c59a2-38b3-42a0-a9bb-f04a24c82600"
      },
      "execution_count": 22,
      "outputs": [
        {
          "output_type": "execute_result",
          "data": {
            "text/plain": [
              "array([[1526,   69],\n",
              "       [ 258,  147]])"
            ]
          },
          "metadata": {},
          "execution_count": 22
        }
      ]
    },
    {
      "cell_type": "code",
      "source": [
        "# Calculate the Accuracy\n",
        "from sklearn.metrics import accuracy_score\n",
        "score=accuracy_score(y_pred,y_test)"
      ],
      "metadata": {
        "id": "Bruk-ussT6P-"
      },
      "execution_count": 23,
      "outputs": []
    },
    {
      "cell_type": "code",
      "source": [
        "score"
      ],
      "metadata": {
        "colab": {
          "base_uri": "https://localhost:8080/"
        },
        "id": "ecaKB9ymT789",
        "outputId": "28fca116-3f66-47b7-c96b-490088bb1193"
      },
      "execution_count": 24,
      "outputs": [
        {
          "output_type": "execute_result",
          "data": {
            "text/plain": [
              "0.8365"
            ]
          },
          "metadata": {},
          "execution_count": 24
        }
      ]
    },
    {
      "cell_type": "code",
      "source": [
        "classifier.get_weights()"
      ],
      "metadata": {
        "colab": {
          "base_uri": "https://localhost:8080/"
        },
        "id": "yiXlFiNyUdhj",
        "outputId": "aaeb9400-51dd-411e-a27f-91a397fecdd0"
      },
      "execution_count": 26,
      "outputs": [
        {
          "output_type": "execute_result",
          "data": {
            "text/plain": [
              "[array([[-0.09083094,  0.21535152, -0.15707797, -0.18115231, -0.01878514,\n",
              "          0.05652049,  0.10279011,  0.0813562 , -0.07876534,  0.00402245,\n",
              "          0.01146636],\n",
              "        [ 0.6040463 , -0.20935798, -0.31686914,  0.23168607,  0.20226562,\n",
              "          0.49022168, -0.40419605, -0.14201093, -0.5940762 ,  0.6036267 ,\n",
              "         -0.12635954],\n",
              "        [-0.04495434,  0.3241816 , -0.13674128, -0.10363767, -0.2152096 ,\n",
              "          0.32639608,  0.30518815,  0.35824943, -0.06473722,  0.14672863,\n",
              "         -0.47030705],\n",
              "        [ 0.1897078 ,  0.2783677 ,  0.11526123, -0.15892251, -0.36599416,\n",
              "         -0.19881071, -0.38053647, -0.6598327 ,  0.51031524, -0.1675764 ,\n",
              "         -0.61734384],\n",
              "        [-0.15792187,  0.31215245, -0.27075106, -0.3166895 ,  0.95267427,\n",
              "         -0.6923369 , -0.1727274 , -0.32408935,  0.50232387,  0.14946614,\n",
              "         -0.23465848],\n",
              "        [-0.04392643, -0.17582695,  0.08519606, -0.16957717,  0.10177834,\n",
              "         -0.254604  , -0.38971034,  0.09228826, -0.14970775,  0.04085488,\n",
              "          0.1276214 ],\n",
              "        [-0.4845278 ,  0.558123  , -0.26597115, -0.27783743,  0.3237009 ,\n",
              "         -0.02402415, -0.1580278 ,  0.2884652 , -0.11459378,  0.5696999 ,\n",
              "          0.23372687],\n",
              "        [-0.02383727, -0.06005215,  0.06380143,  0.37293944, -0.2917181 ,\n",
              "         -0.0462079 , -0.18308128,  0.35163665, -0.084492  , -0.02060918,\n",
              "         -0.4022932 ],\n",
              "        [ 0.42452988, -0.33478686,  0.12867218, -0.1434029 , -0.14156343,\n",
              "         -0.03001156, -0.22782329, -0.49412283, -0.04777276, -0.0133435 ,\n",
              "          0.09778897],\n",
              "        [ 0.06654889,  0.11952422,  0.26950374,  0.00639321,  0.01288548,\n",
              "         -0.04828794, -0.17862703,  0.33161908,  0.04341866,  0.15002187,\n",
              "         -0.10753562],\n",
              "        [-0.20646594,  0.16293745, -0.14562882,  0.12057357, -0.27382872,\n",
              "         -0.0547101 ,  0.25192374,  0.05520287, -0.08360355, -0.03626233,\n",
              "         -0.16282843]], dtype=float32),\n",
              " array([-0.00063642,  0.19649984, -0.2914345 , -0.37675643, -0.24779072,\n",
              "        -0.11021445,  0.0695821 ,  0.08503544,  0.02195501, -0.5549733 ,\n",
              "         0.15722638], dtype=float32),\n",
              " array([[-0.2005065 , -0.23582865,  0.01221714, -0.4758878 ,  0.31682494,\n",
              "         -0.13519211],\n",
              "        [-0.38115764,  0.0824559 , -0.575195  , -0.22690871, -0.35308716,\n",
              "         -0.76033   ],\n",
              "        [ 0.10574033, -0.39302886, -0.27471897, -0.21025582, -0.36388496,\n",
              "         -0.44688806],\n",
              "        [ 0.04792615,  0.23260233,  0.15168127,  0.00659004,  0.3441795 ,\n",
              "          0.08693399],\n",
              "        [-0.5745919 , -0.2025241 , -0.11493737,  0.0546264 , -0.3085951 ,\n",
              "         -0.15008192],\n",
              "        [-0.611927  , -0.43324754,  0.5492388 , -0.20080395,  0.3283692 ,\n",
              "          0.23778434],\n",
              "        [-0.45196572,  0.40527272, -0.36165375,  0.06143013, -0.03832188,\n",
              "          0.46828294],\n",
              "        [-0.28944358,  0.21778435,  0.38644034, -0.6500729 ,  0.26841295,\n",
              "         -0.5894126 ],\n",
              "        [ 0.35027134, -0.10337748, -0.02934268, -0.588415  , -0.6829367 ,\n",
              "         -0.22512485],\n",
              "        [-0.01642541, -0.11774289,  0.1856415 , -0.06152027, -0.21378364,\n",
              "          0.6371813 ],\n",
              "        [-0.49028876,  0.254294  ,  0.38070524, -0.16112427,  0.36050862,\n",
              "         -0.18171705]], dtype=float32),\n",
              " array([ 0.16402483,  0.4686516 ,  0.254124  , -0.0752449 , -0.14435464,\n",
              "        -0.06336106], dtype=float32),\n",
              " array([[-0.62207794],\n",
              "        [-0.3036969 ],\n",
              "        [-0.24941675],\n",
              "        [-0.40339804],\n",
              "        [ 0.7354369 ],\n",
              "        [-0.4797931 ]], dtype=float32),\n",
              " array([0.36264095], dtype=float32)]"
            ]
          },
          "metadata": {},
          "execution_count": 26
        }
      ]
    },
    {
      "cell_type": "code",
      "source": [],
      "metadata": {
        "id": "NT0gU_8oVcBA"
      },
      "execution_count": null,
      "outputs": []
    }
  ]
}